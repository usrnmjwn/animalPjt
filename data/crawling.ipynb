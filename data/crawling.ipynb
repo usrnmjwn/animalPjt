{
 "cells": [
  {
   "cell_type": "code",
   "execution_count": null,
   "id": "6d3a4b19",
   "metadata": {},
   "outputs": [
    {
     "ename": "SyntaxError",
     "evalue": "invalid syntax (1709309456.py, line 1)",
     "output_type": "error",
     "traceback": [
      "  \u001b[36mCell\u001b[39m\u001b[36m \u001b[39m\u001b[32mIn[11]\u001b[39m\u001b[32m, line 1\u001b[39m\n\u001b[31m    \u001b[39m\u001b[31mpip install selenium\u001b[39m\n        ^\n\u001b[31mSyntaxError\u001b[39m\u001b[31m:\u001b[39m invalid syntax\n"
     ]
    }
   ],
   "source": [
    "pip install selenium\n"
   ]
  },
  {
   "cell_type": "code",
   "execution_count": 12,
   "id": "372c1fbc",
   "metadata": {},
   "outputs": [
    {
     "name": "stdout",
     "output_type": "stream",
     "text": [
      "Collecting bs4\n",
      "  Downloading bs4-0.0.2-py2.py3-none-any.whl.metadata (411 bytes)\n",
      "Requirement already satisfied: beautifulsoup4 in c:\\users\\bit\\appdata\\local\\programs\\python\\python313\\lib\\site-packages (from bs4) (4.13.4)\n",
      "Requirement already satisfied: soupsieve>1.2 in c:\\users\\bit\\appdata\\local\\programs\\python\\python313\\lib\\site-packages (from beautifulsoup4->bs4) (2.7)\n",
      "Requirement already satisfied: typing-extensions>=4.0.0 in c:\\users\\bit\\appdata\\local\\programs\\python\\python313\\lib\\site-packages (from beautifulsoup4->bs4) (4.13.2)\n",
      "Downloading bs4-0.0.2-py2.py3-none-any.whl (1.2 kB)\n",
      "Installing collected packages: bs4\n",
      "Successfully installed bs4-0.0.2\n",
      "Note: you may need to restart the kernel to use updated packages.\n"
     ]
    },
    {
     "name": "stderr",
     "output_type": "stream",
     "text": [
      "\n",
      "[notice] A new release of pip is available: 25.0.1 -> 25.1.1\n",
      "[notice] To update, run: python.exe -m pip install --upgrade pip\n"
     ]
    }
   ],
   "source": [
    "pip install bs4"
   ]
  },
  {
   "cell_type": "code",
   "execution_count": 23,
   "id": "5052fe50",
   "metadata": {},
   "outputs": [
    {
     "name": "stdout",
     "output_type": "stream",
     "text": [
      "Collecting webdriver_manager\n",
      "  Downloading webdriver_manager-4.0.2-py2.py3-none-any.whl.metadata (12 kB)\n",
      "Collecting requests (from webdriver_manager)\n",
      "  Downloading requests-2.32.3-py3-none-any.whl.metadata (4.6 kB)\n",
      "Collecting python-dotenv (from webdriver_manager)\n",
      "  Downloading python_dotenv-1.1.0-py3-none-any.whl.metadata (24 kB)\n",
      "Requirement already satisfied: packaging in c:\\users\\bit\\appdata\\roaming\\python\\python313\\site-packages (from webdriver_manager) (25.0)\n",
      "Collecting charset-normalizer<4,>=2 (from requests->webdriver_manager)\n",
      "  Downloading charset_normalizer-3.4.2-cp313-cp313-win_amd64.whl.metadata (36 kB)\n",
      "Requirement already satisfied: idna<4,>=2.5 in c:\\users\\bit\\appdata\\local\\programs\\python\\python313\\lib\\site-packages (from requests->webdriver_manager) (3.10)\n",
      "Requirement already satisfied: urllib3<3,>=1.21.1 in c:\\users\\bit\\appdata\\local\\programs\\python\\python313\\lib\\site-packages (from requests->webdriver_manager) (2.4.0)\n",
      "Requirement already satisfied: certifi>=2017.4.17 in c:\\users\\bit\\appdata\\local\\programs\\python\\python313\\lib\\site-packages (from requests->webdriver_manager) (2025.4.26)\n",
      "Downloading webdriver_manager-4.0.2-py2.py3-none-any.whl (27 kB)\n",
      "Downloading python_dotenv-1.1.0-py3-none-any.whl (20 kB)\n",
      "Downloading requests-2.32.3-py3-none-any.whl (64 kB)\n",
      "Downloading charset_normalizer-3.4.2-cp313-cp313-win_amd64.whl (105 kB)\n",
      "Installing collected packages: python-dotenv, charset-normalizer, requests, webdriver_manager\n",
      "Successfully installed charset-normalizer-3.4.2 python-dotenv-1.1.0 requests-2.32.3 webdriver_manager-4.0.2\n",
      "Note: you may need to restart the kernel to use updated packages.\n"
     ]
    },
    {
     "name": "stderr",
     "output_type": "stream",
     "text": [
      "  WARNING: The script dotenv.exe is installed in 'c:\\Users\\bit\\AppData\\Local\\Programs\\Python\\Python313\\Scripts' which is not on PATH.\n",
      "  Consider adding this directory to PATH or, if you prefer to suppress this warning, use --no-warn-script-location.\n",
      "  WARNING: The script normalizer.exe is installed in 'c:\\Users\\bit\\AppData\\Local\\Programs\\Python\\Python313\\Scripts' which is not on PATH.\n",
      "  Consider adding this directory to PATH or, if you prefer to suppress this warning, use --no-warn-script-location.\n",
      "\n",
      "[notice] A new release of pip is available: 25.0.1 -> 25.1.1\n",
      "[notice] To update, run: python.exe -m pip install --upgrade pip\n"
     ]
    }
   ],
   "source": [
    "pip install webdriver_manager"
   ]
  },
  {
   "cell_type": "code",
   "execution_count": null,
   "id": "27558586",
   "metadata": {},
   "outputs": [
    {
     "ename": "SyntaxError",
     "evalue": "invalid syntax (2440085156.py, line 9)",
     "output_type": "error",
     "traceback": [
      "  \u001b[36mCell\u001b[39m\u001b[36m \u001b[39m\u001b[32mIn[22]\u001b[39m\u001b[32m, line 9\u001b[39m\n\u001b[31m    \u001b[39m\u001b[31mpip install webdriver_manager\u001b[39m\n        ^\n\u001b[31mSyntaxError\u001b[39m\u001b[31m:\u001b[39m invalid syntax\n"
     ]
    }
   ],
   "source": [
    "from selenium import webdriver\n",
    "from selenium.webdriver.chrome.service import Service\n",
    "from selenium.webdriver.support.ui import Select\n",
    "from selenium.webdriver.common.by import By\n",
    "from selenium.webdriver.chrome.options import Options\n",
    "from bs4 import BeautifulSoup\n",
    "import pandas as pd\n",
    "import time\n"
   ]
  },
  {
   "cell_type": "code",
   "execution_count": 33,
   "id": "93bd92aa",
   "metadata": {},
   "outputs": [
    {
     "name": "stdout",
     "output_type": "stream",
     "text": [
      "✅ 조류강 페이지 진입 완료!\n"
     ]
    }
   ],
   "source": [
    "from selenium import webdriver\n",
    "from selenium.webdriver.chrome.service import Service\n",
    "from selenium.webdriver.support.ui import Select\n",
    "from selenium.webdriver.common.by import By\n",
    "from selenium.webdriver.chrome.options import Options\n",
    "from webdriver_manager.chrome import ChromeDriverManager\n",
    "import time\n",
    "\n",
    "# 크롬 옵션 설정\n",
    "options = Options()\n",
    "# options.add_argument('--headless')  # 창 없이 실행할 때 사용\n",
    "options.add_argument('--no-sandbox')\n",
    "options.add_argument('--disable-dev-shm-usage')\n",
    "\n",
    "# 크롬 드라이버 실행\n",
    "driver = webdriver.Chrome(service=Service(ChromeDriverManager().install()), options=options)\n",
    "\n",
    "# 1. 페이지 접속\n",
    "url = \"https://grandpark.seoul.go.kr/animal/animalList/ko/S001002002003.do\"\n",
    "driver.get(url)\n",
    "time.sleep(2)\n",
    "\n",
    "# 2. '학문적 분류' 드롭다운에서 '조류강' 선택\n",
    "select_element = driver.find_element(By.ID, \"search_animal_cd\")\n",
    "select = Select(select_element)\n",
    "select.select_by_value(\"0101030000\")  # 조류강\n",
    "time.sleep(1)\n",
    "\n",
    "# 3. '검색' 버튼 클릭\n",
    "search_button = driver.find_element(By.CSS_SELECTOR, \"button.search-button\")\n",
    "search_button.click()\n",
    "time.sleep(2)  # 조류 페이지 로딩 대기\n",
    "\n",
    "print(\"✅ 조류강 페이지 진입 완료!\")\n"
   ]
  },
  {
   "cell_type": "code",
   "execution_count": 34,
   "id": "1c314dab",
   "metadata": {},
   "outputs": [],
   "source": [
    "def parse_current_page(driver):\n",
    "    soup = BeautifulSoup(driver.page_source, \"html.parser\")\n",
    "    animal_blocks = soup.select(\"div.gallery-detail\")\n",
    "\n",
    "    data = []\n",
    "\n",
    "    for block in animal_blocks:\n",
    "        name = block.select_one(\"a.gallery-title\").text.strip()\n",
    "\n",
    "        # 기본값 지정\n",
    "        order = family = location = \"정보 없음\"\n",
    "\n",
    "        li_tags = block.select(\"ul.circle-list.tbl > li\")\n",
    "\n",
    "        for li in li_tags:\n",
    "            label = li.select_one(\"strong\").text.strip()\n",
    "            value = li.select_one(\"span\").text.strip()\n",
    "\n",
    "            if \"목\" in label:\n",
    "                order = value\n",
    "            elif \"과\" in label:\n",
    "                family = value\n",
    "            elif \"위치\" in label:\n",
    "                location = value\n",
    "\n",
    "        data.append({\n",
    "            \"이름\": name,\n",
    "            \"목분류\": order,\n",
    "            \"과분류\": family,\n",
    "            \"공원내위치\": location\n",
    "        })\n",
    "\n",
    "    return data\n"
   ]
  },
  {
   "cell_type": "code",
   "execution_count": null,
   "id": "59f7d782",
   "metadata": {},
   "outputs": [],
   "source": [
    "\n",
    "all_data = []\n",
    "\n",
    "for page in range(1, ): \n",
    "    # 페이지 수는 수동으로 입력\n",
    "    url = f\"https://grandpark.seoul.go.kr/animal/animalList/ko/S001002002003.do?pageIndex={page}&search_animal_cd=0101030000\"\n",
    "    driver.get(url)\n",
    "    time.sleep(1)  # 로딩 대기\n",
    "    page_data = parse_current_page(driver)\n",
    "    all_data.extend(page_data)\n",
    "\n",
    "# 브라우저 닫기\n",
    "driver.quit()\n"
   ]
  },
  {
   "cell_type": "code",
   "execution_count": 36,
   "id": "1bee27a1",
   "metadata": {},
   "outputs": [
    {
     "data": {
      "text/html": [
       "<div>\n",
       "<style scoped>\n",
       "    .dataframe tbody tr th:only-of-type {\n",
       "        vertical-align: middle;\n",
       "    }\n",
       "\n",
       "    .dataframe tbody tr th {\n",
       "        vertical-align: top;\n",
       "    }\n",
       "\n",
       "    .dataframe thead th {\n",
       "        text-align: right;\n",
       "    }\n",
       "</style>\n",
       "<table border=\"1\" class=\"dataframe\">\n",
       "  <thead>\n",
       "    <tr style=\"text-align: right;\">\n",
       "      <th></th>\n",
       "      <th>이름</th>\n",
       "      <th>목분류</th>\n",
       "      <th>과분류</th>\n",
       "      <th>공원내위치</th>\n",
       "    </tr>\n",
       "  </thead>\n",
       "  <tbody>\n",
       "    <tr>\n",
       "      <th>0</th>\n",
       "      <td>팬케이크육지거북</td>\n",
       "      <td>거북목</td>\n",
       "      <td>땅거북과</td>\n",
       "      <td>동양관</td>\n",
       "    </tr>\n",
       "    <tr>\n",
       "      <th>1</th>\n",
       "      <td>솔방울도마뱀</td>\n",
       "      <td>뱀목</td>\n",
       "      <td>도마뱀과</td>\n",
       "      <td>동양관</td>\n",
       "    </tr>\n",
       "    <tr>\n",
       "      <th>2</th>\n",
       "      <td>유로메스틱스게리</td>\n",
       "      <td>뱀목</td>\n",
       "      <td>아가마과</td>\n",
       "      <td>동양관</td>\n",
       "    </tr>\n",
       "    <tr>\n",
       "      <th>3</th>\n",
       "      <td>시밀리스왕도마뱀</td>\n",
       "      <td>뱀목</td>\n",
       "      <td>왕도마뱀과</td>\n",
       "      <td>동양관</td>\n",
       "    </tr>\n",
       "    <tr>\n",
       "      <th>4</th>\n",
       "      <td>레이저백머스크터틀</td>\n",
       "      <td>거북목</td>\n",
       "      <td>-</td>\n",
       "      <td>곤충관</td>\n",
       "    </tr>\n",
       "  </tbody>\n",
       "</table>\n",
       "</div>"
      ],
      "text/plain": [
       "          이름  목분류    과분류 공원내위치\n",
       "0   팬케이크육지거북  거북목   땅거북과   동양관\n",
       "1     솔방울도마뱀   뱀목   도마뱀과   동양관\n",
       "2   유로메스틱스게리   뱀목   아가마과   동양관\n",
       "3   시밀리스왕도마뱀   뱀목  왕도마뱀과   동양관\n",
       "4  레이저백머스크터틀  거북목      -   곤충관"
      ]
     },
     "execution_count": 36,
     "metadata": {},
     "output_type": "execute_result"
    }
   ],
   "source": [
    "df = pd.DataFrame(all_data)\n",
    "df.to_csv(\"서울대공원_보유동물_파충류강정보.csv\", index=False, encoding=\"utf-8-sig\")\n",
    "\n",
    "df.head()\n"
   ]
  }
 ],
 "metadata": {
  "kernelspec": {
   "display_name": "Python 3",
   "language": "python",
   "name": "python3"
  },
  "language_info": {
   "codemirror_mode": {
    "name": "ipython",
    "version": 3
   },
   "file_extension": ".py",
   "mimetype": "text/x-python",
   "name": "python",
   "nbconvert_exporter": "python",
   "pygments_lexer": "ipython3",
   "version": "3.13.3"
  }
 },
 "nbformat": 4,
 "nbformat_minor": 5
}
